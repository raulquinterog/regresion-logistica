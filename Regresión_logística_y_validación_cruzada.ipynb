{
  "nbformat": 4,
  "nbformat_minor": 0,
  "metadata": {
    "colab": {
      "provenance": []
    },
    "kernelspec": {
      "name": "python3",
      "display_name": "Python 3"
    },
    "language_info": {
      "name": "python"
    }
  },
  "cells": [
    {
      "cell_type": "code",
      "execution_count": 6,
      "metadata": {
        "colab": {
          "base_uri": "https://localhost:8080/",
          "height": 291
        },
        "id": "20aUWECUiV53",
        "outputId": "3b2f9cc0-d65b-46a9-8011-33dd2f62cc8a"
      },
      "outputs": [
        {
          "output_type": "stream",
          "name": "stderr",
          "text": [
            "<ipython-input-6-cc503228d870>:4: DtypeWarning: Columns (1,2) have mixed types. Specify dtype option on import or set low_memory=False.\n",
            "  df = pd.read_csv(\"ce2019_nl.csv\")\n"
          ]
        },
        {
          "output_type": "execute_result",
          "data": {
            "text/plain": [
              "   ENTIDAD MUNICIPIO  CODIGO  ID_ESTRATO           UE        A111A  \\\n",
              "19                       NaN      151448  2195663.395  1322881.181   \n",
              "19                       1.0      134527   177892.013    69087.968   \n",
              "19                       2.0       12481   195644.861    94364.212   \n",
              "19                       3.0        3423   405439.706   230244.418   \n",
              "19                       4.0        1017  1416686.815   929184.583   \n",
              "\n",
              "         A121A      A131A      A211A       A221A  ...    A256A   A433A  \\\n",
              "19  872782.214  51952.108  51716.343  214243.729  ...  180.810  94.849   \n",
              "19  108804.045   -656.708   2660.336   63885.592  ...  189.351  96.347   \n",
              "19  101280.649   2762.641   4075.900   56941.757  ...  158.627  96.237   \n",
              "19  175195.288   9685.140   8897.832   71759.615  ...  168.384  94.108   \n",
              "19  487502.232  40161.035  36082.275   21656.765  ...  191.111  94.519   \n",
              "\n",
              "          A434A  A436A   A529A    A534A    A747A    A748A   A752A  A764A  \n",
              "19  1430677.699  7.749  30.102  390.233  624.484  115.080  35.866    NaN  \n",
              "19   774045.949  8.097  44.672  244.605  320.499  151.943  44.285    NaN  \n",
              "19  1372785.008  7.347  30.665  239.635  359.363   94.499  36.126    NaN  \n",
              "19  1597661.030  8.387  31.195  311.924  483.604  106.532  33.078    NaN  \n",
              "19  1655494.243  7.540  27.320  418.393  638.856  117.421  33.437    NaN  \n",
              "\n",
              "[5 rows x 186 columns]"
            ],
            "text/html": [
              "\n",
              "  <div id=\"df-1caabc71-25ef-4304-a567-1a7dc71ca445\" class=\"colab-df-container\">\n",
              "    <div>\n",
              "<style scoped>\n",
              "    .dataframe tbody tr th:only-of-type {\n",
              "        vertical-align: middle;\n",
              "    }\n",
              "\n",
              "    .dataframe tbody tr th {\n",
              "        vertical-align: top;\n",
              "    }\n",
              "\n",
              "    .dataframe thead th {\n",
              "        text-align: right;\n",
              "    }\n",
              "</style>\n",
              "<table border=\"1\" class=\"dataframe\">\n",
              "  <thead>\n",
              "    <tr style=\"text-align: right;\">\n",
              "      <th></th>\n",
              "      <th>ENTIDAD</th>\n",
              "      <th>MUNICIPIO</th>\n",
              "      <th>CODIGO</th>\n",
              "      <th>ID_ESTRATO</th>\n",
              "      <th>UE</th>\n",
              "      <th>A111A</th>\n",
              "      <th>A121A</th>\n",
              "      <th>A131A</th>\n",
              "      <th>A211A</th>\n",
              "      <th>A221A</th>\n",
              "      <th>...</th>\n",
              "      <th>A256A</th>\n",
              "      <th>A433A</th>\n",
              "      <th>A434A</th>\n",
              "      <th>A436A</th>\n",
              "      <th>A529A</th>\n",
              "      <th>A534A</th>\n",
              "      <th>A747A</th>\n",
              "      <th>A748A</th>\n",
              "      <th>A752A</th>\n",
              "      <th>A764A</th>\n",
              "    </tr>\n",
              "  </thead>\n",
              "  <tbody>\n",
              "    <tr>\n",
              "      <th>19</th>\n",
              "      <td></td>\n",
              "      <td></td>\n",
              "      <td>NaN</td>\n",
              "      <td>151448</td>\n",
              "      <td>2195663.395</td>\n",
              "      <td>1322881.181</td>\n",
              "      <td>872782.214</td>\n",
              "      <td>51952.108</td>\n",
              "      <td>51716.343</td>\n",
              "      <td>214243.729</td>\n",
              "      <td>...</td>\n",
              "      <td>180.810</td>\n",
              "      <td>94.849</td>\n",
              "      <td>1430677.699</td>\n",
              "      <td>7.749</td>\n",
              "      <td>30.102</td>\n",
              "      <td>390.233</td>\n",
              "      <td>624.484</td>\n",
              "      <td>115.080</td>\n",
              "      <td>35.866</td>\n",
              "      <td>NaN</td>\n",
              "    </tr>\n",
              "    <tr>\n",
              "      <th>19</th>\n",
              "      <td></td>\n",
              "      <td></td>\n",
              "      <td>1.0</td>\n",
              "      <td>134527</td>\n",
              "      <td>177892.013</td>\n",
              "      <td>69087.968</td>\n",
              "      <td>108804.045</td>\n",
              "      <td>-656.708</td>\n",
              "      <td>2660.336</td>\n",
              "      <td>63885.592</td>\n",
              "      <td>...</td>\n",
              "      <td>189.351</td>\n",
              "      <td>96.347</td>\n",
              "      <td>774045.949</td>\n",
              "      <td>8.097</td>\n",
              "      <td>44.672</td>\n",
              "      <td>244.605</td>\n",
              "      <td>320.499</td>\n",
              "      <td>151.943</td>\n",
              "      <td>44.285</td>\n",
              "      <td>NaN</td>\n",
              "    </tr>\n",
              "    <tr>\n",
              "      <th>19</th>\n",
              "      <td></td>\n",
              "      <td></td>\n",
              "      <td>2.0</td>\n",
              "      <td>12481</td>\n",
              "      <td>195644.861</td>\n",
              "      <td>94364.212</td>\n",
              "      <td>101280.649</td>\n",
              "      <td>2762.641</td>\n",
              "      <td>4075.900</td>\n",
              "      <td>56941.757</td>\n",
              "      <td>...</td>\n",
              "      <td>158.627</td>\n",
              "      <td>96.237</td>\n",
              "      <td>1372785.008</td>\n",
              "      <td>7.347</td>\n",
              "      <td>30.665</td>\n",
              "      <td>239.635</td>\n",
              "      <td>359.363</td>\n",
              "      <td>94.499</td>\n",
              "      <td>36.126</td>\n",
              "      <td>NaN</td>\n",
              "    </tr>\n",
              "    <tr>\n",
              "      <th>19</th>\n",
              "      <td></td>\n",
              "      <td></td>\n",
              "      <td>3.0</td>\n",
              "      <td>3423</td>\n",
              "      <td>405439.706</td>\n",
              "      <td>230244.418</td>\n",
              "      <td>175195.288</td>\n",
              "      <td>9685.140</td>\n",
              "      <td>8897.832</td>\n",
              "      <td>71759.615</td>\n",
              "      <td>...</td>\n",
              "      <td>168.384</td>\n",
              "      <td>94.108</td>\n",
              "      <td>1597661.030</td>\n",
              "      <td>8.387</td>\n",
              "      <td>31.195</td>\n",
              "      <td>311.924</td>\n",
              "      <td>483.604</td>\n",
              "      <td>106.532</td>\n",
              "      <td>33.078</td>\n",
              "      <td>NaN</td>\n",
              "    </tr>\n",
              "    <tr>\n",
              "      <th>19</th>\n",
              "      <td></td>\n",
              "      <td></td>\n",
              "      <td>4.0</td>\n",
              "      <td>1017</td>\n",
              "      <td>1416686.815</td>\n",
              "      <td>929184.583</td>\n",
              "      <td>487502.232</td>\n",
              "      <td>40161.035</td>\n",
              "      <td>36082.275</td>\n",
              "      <td>21656.765</td>\n",
              "      <td>...</td>\n",
              "      <td>191.111</td>\n",
              "      <td>94.519</td>\n",
              "      <td>1655494.243</td>\n",
              "      <td>7.540</td>\n",
              "      <td>27.320</td>\n",
              "      <td>418.393</td>\n",
              "      <td>638.856</td>\n",
              "      <td>117.421</td>\n",
              "      <td>33.437</td>\n",
              "      <td>NaN</td>\n",
              "    </tr>\n",
              "  </tbody>\n",
              "</table>\n",
              "<p>5 rows × 186 columns</p>\n",
              "</div>\n",
              "    <div class=\"colab-df-buttons\">\n",
              "\n",
              "  <div class=\"colab-df-container\">\n",
              "    <button class=\"colab-df-convert\" onclick=\"convertToInteractive('df-1caabc71-25ef-4304-a567-1a7dc71ca445')\"\n",
              "            title=\"Convert this dataframe to an interactive table.\"\n",
              "            style=\"display:none;\">\n",
              "\n",
              "  <svg xmlns=\"http://www.w3.org/2000/svg\" height=\"24px\" viewBox=\"0 -960 960 960\">\n",
              "    <path d=\"M120-120v-720h720v720H120Zm60-500h600v-160H180v160Zm220 220h160v-160H400v160Zm0 220h160v-160H400v160ZM180-400h160v-160H180v160Zm440 0h160v-160H620v160ZM180-180h160v-160H180v160Zm440 0h160v-160H620v160Z\"/>\n",
              "  </svg>\n",
              "    </button>\n",
              "\n",
              "  <style>\n",
              "    .colab-df-container {\n",
              "      display:flex;\n",
              "      gap: 12px;\n",
              "    }\n",
              "\n",
              "    .colab-df-convert {\n",
              "      background-color: #E8F0FE;\n",
              "      border: none;\n",
              "      border-radius: 50%;\n",
              "      cursor: pointer;\n",
              "      display: none;\n",
              "      fill: #1967D2;\n",
              "      height: 32px;\n",
              "      padding: 0 0 0 0;\n",
              "      width: 32px;\n",
              "    }\n",
              "\n",
              "    .colab-df-convert:hover {\n",
              "      background-color: #E2EBFA;\n",
              "      box-shadow: 0px 1px 2px rgba(60, 64, 67, 0.3), 0px 1px 3px 1px rgba(60, 64, 67, 0.15);\n",
              "      fill: #174EA6;\n",
              "    }\n",
              "\n",
              "    .colab-df-buttons div {\n",
              "      margin-bottom: 4px;\n",
              "    }\n",
              "\n",
              "    [theme=dark] .colab-df-convert {\n",
              "      background-color: #3B4455;\n",
              "      fill: #D2E3FC;\n",
              "    }\n",
              "\n",
              "    [theme=dark] .colab-df-convert:hover {\n",
              "      background-color: #434B5C;\n",
              "      box-shadow: 0px 1px 3px 1px rgba(0, 0, 0, 0.15);\n",
              "      filter: drop-shadow(0px 1px 2px rgba(0, 0, 0, 0.3));\n",
              "      fill: #FFFFFF;\n",
              "    }\n",
              "  </style>\n",
              "\n",
              "    <script>\n",
              "      const buttonEl =\n",
              "        document.querySelector('#df-1caabc71-25ef-4304-a567-1a7dc71ca445 button.colab-df-convert');\n",
              "      buttonEl.style.display =\n",
              "        google.colab.kernel.accessAllowed ? 'block' : 'none';\n",
              "\n",
              "      async function convertToInteractive(key) {\n",
              "        const element = document.querySelector('#df-1caabc71-25ef-4304-a567-1a7dc71ca445');\n",
              "        const dataTable =\n",
              "          await google.colab.kernel.invokeFunction('convertToInteractive',\n",
              "                                                    [key], {});\n",
              "        if (!dataTable) return;\n",
              "\n",
              "        const docLinkHtml = 'Like what you see? Visit the ' +\n",
              "          '<a target=\"_blank\" href=https://colab.research.google.com/notebooks/data_table.ipynb>data table notebook</a>'\n",
              "          + ' to learn more about interactive tables.';\n",
              "        element.innerHTML = '';\n",
              "        dataTable['output_type'] = 'display_data';\n",
              "        await google.colab.output.renderOutput(dataTable, element);\n",
              "        const docLink = document.createElement('div');\n",
              "        docLink.innerHTML = docLinkHtml;\n",
              "        element.appendChild(docLink);\n",
              "      }\n",
              "    </script>\n",
              "  </div>\n",
              "\n",
              "\n",
              "<div id=\"df-61309bf4-87bf-4a8c-b2a1-29c6a9197a65\">\n",
              "  <button class=\"colab-df-quickchart\" onclick=\"quickchart('df-61309bf4-87bf-4a8c-b2a1-29c6a9197a65')\"\n",
              "            title=\"Suggest charts\"\n",
              "            style=\"display:none;\">\n",
              "\n",
              "<svg xmlns=\"http://www.w3.org/2000/svg\" height=\"24px\"viewBox=\"0 0 24 24\"\n",
              "     width=\"24px\">\n",
              "    <g>\n",
              "        <path d=\"M19 3H5c-1.1 0-2 .9-2 2v14c0 1.1.9 2 2 2h14c1.1 0 2-.9 2-2V5c0-1.1-.9-2-2-2zM9 17H7v-7h2v7zm4 0h-2V7h2v10zm4 0h-2v-4h2v4z\"/>\n",
              "    </g>\n",
              "</svg>\n",
              "  </button>\n",
              "\n",
              "<style>\n",
              "  .colab-df-quickchart {\n",
              "      --bg-color: #E8F0FE;\n",
              "      --fill-color: #1967D2;\n",
              "      --hover-bg-color: #E2EBFA;\n",
              "      --hover-fill-color: #174EA6;\n",
              "      --disabled-fill-color: #AAA;\n",
              "      --disabled-bg-color: #DDD;\n",
              "  }\n",
              "\n",
              "  [theme=dark] .colab-df-quickchart {\n",
              "      --bg-color: #3B4455;\n",
              "      --fill-color: #D2E3FC;\n",
              "      --hover-bg-color: #434B5C;\n",
              "      --hover-fill-color: #FFFFFF;\n",
              "      --disabled-bg-color: #3B4455;\n",
              "      --disabled-fill-color: #666;\n",
              "  }\n",
              "\n",
              "  .colab-df-quickchart {\n",
              "    background-color: var(--bg-color);\n",
              "    border: none;\n",
              "    border-radius: 50%;\n",
              "    cursor: pointer;\n",
              "    display: none;\n",
              "    fill: var(--fill-color);\n",
              "    height: 32px;\n",
              "    padding: 0;\n",
              "    width: 32px;\n",
              "  }\n",
              "\n",
              "  .colab-df-quickchart:hover {\n",
              "    background-color: var(--hover-bg-color);\n",
              "    box-shadow: 0 1px 2px rgba(60, 64, 67, 0.3), 0 1px 3px 1px rgba(60, 64, 67, 0.15);\n",
              "    fill: var(--button-hover-fill-color);\n",
              "  }\n",
              "\n",
              "  .colab-df-quickchart-complete:disabled,\n",
              "  .colab-df-quickchart-complete:disabled:hover {\n",
              "    background-color: var(--disabled-bg-color);\n",
              "    fill: var(--disabled-fill-color);\n",
              "    box-shadow: none;\n",
              "  }\n",
              "\n",
              "  .colab-df-spinner {\n",
              "    border: 2px solid var(--fill-color);\n",
              "    border-color: transparent;\n",
              "    border-bottom-color: var(--fill-color);\n",
              "    animation:\n",
              "      spin 1s steps(1) infinite;\n",
              "  }\n",
              "\n",
              "  @keyframes spin {\n",
              "    0% {\n",
              "      border-color: transparent;\n",
              "      border-bottom-color: var(--fill-color);\n",
              "      border-left-color: var(--fill-color);\n",
              "    }\n",
              "    20% {\n",
              "      border-color: transparent;\n",
              "      border-left-color: var(--fill-color);\n",
              "      border-top-color: var(--fill-color);\n",
              "    }\n",
              "    30% {\n",
              "      border-color: transparent;\n",
              "      border-left-color: var(--fill-color);\n",
              "      border-top-color: var(--fill-color);\n",
              "      border-right-color: var(--fill-color);\n",
              "    }\n",
              "    40% {\n",
              "      border-color: transparent;\n",
              "      border-right-color: var(--fill-color);\n",
              "      border-top-color: var(--fill-color);\n",
              "    }\n",
              "    60% {\n",
              "      border-color: transparent;\n",
              "      border-right-color: var(--fill-color);\n",
              "    }\n",
              "    80% {\n",
              "      border-color: transparent;\n",
              "      border-right-color: var(--fill-color);\n",
              "      border-bottom-color: var(--fill-color);\n",
              "    }\n",
              "    90% {\n",
              "      border-color: transparent;\n",
              "      border-bottom-color: var(--fill-color);\n",
              "    }\n",
              "  }\n",
              "</style>\n",
              "\n",
              "  <script>\n",
              "    async function quickchart(key) {\n",
              "      const quickchartButtonEl =\n",
              "        document.querySelector('#' + key + ' button');\n",
              "      quickchartButtonEl.disabled = true;  // To prevent multiple clicks.\n",
              "      quickchartButtonEl.classList.add('colab-df-spinner');\n",
              "      try {\n",
              "        const charts = await google.colab.kernel.invokeFunction(\n",
              "            'suggestCharts', [key], {});\n",
              "      } catch (error) {\n",
              "        console.error('Error during call to suggestCharts:', error);\n",
              "      }\n",
              "      quickchartButtonEl.classList.remove('colab-df-spinner');\n",
              "      quickchartButtonEl.classList.add('colab-df-quickchart-complete');\n",
              "    }\n",
              "    (() => {\n",
              "      let quickchartButtonEl =\n",
              "        document.querySelector('#df-61309bf4-87bf-4a8c-b2a1-29c6a9197a65 button');\n",
              "      quickchartButtonEl.style.display =\n",
              "        google.colab.kernel.accessAllowed ? 'block' : 'none';\n",
              "    })();\n",
              "  </script>\n",
              "</div>\n",
              "\n",
              "    </div>\n",
              "  </div>\n"
            ],
            "application/vnd.google.colaboratory.intrinsic+json": {
              "type": "dataframe",
              "variable_name": "df"
            }
          },
          "metadata": {},
          "execution_count": 6
        }
      ],
      "source": [
        "import pandas as pd\n",
        "\n",
        "# Cargar los datos del archivo\n",
        "df = pd.read_csv(\"ce2019_nl.csv\")\n",
        "\n",
        "# Mostrar las primeras filas para analizar las variables\n",
        "df.head()\n"
      ]
    },
    {
      "cell_type": "markdown",
      "source": [
        "Aqui solamente baje los datos y verifiqué que se estaban cargando correctamente."
      ],
      "metadata": {
        "id": "4dg3lWvMjJOz"
      }
    },
    {
      "cell_type": "code",
      "source": [
        "# Calcular la mediana de una columna numérica para usar como umbral\n",
        "median_value = df['A111A'].median()\n",
        "median_value\n"
      ],
      "metadata": {
        "colab": {
          "base_uri": "https://localhost:8080/"
        },
        "id": "378UY6vjjJkZ",
        "outputId": "d30189ba-3ef4-4d36-8902-8fd37700c23d"
      },
      "execution_count": 7,
      "outputs": [
        {
          "output_type": "execute_result",
          "data": {
            "text/plain": [
              "23.945"
            ]
          },
          "metadata": {},
          "execution_count": 7
        }
      ]
    },
    {
      "cell_type": "markdown",
      "source": [
        "Busque la mediana porque como voy a hacer esta variable (A111A) binaria, necesito clasificar entre alto y bajo."
      ],
      "metadata": {
        "id": "0wuzDsY9jLkC"
      }
    },
    {
      "cell_type": "code",
      "source": [
        "# Crear una nueva columna binaria basada en la mediana\n",
        "df[\"A111A_binaria\"] = (df[\"A111A\"] >= median_value).astype(int)\n",
        "\n",
        "# Mostrar distribución de la nueva variable\n",
        "df[\"A111A_binaria\"].value_counts(normalize=True)\n"
      ],
      "metadata": {
        "colab": {
          "base_uri": "https://localhost:8080/",
          "height": 178
        },
        "id": "aY5sYzfYjL6J",
        "outputId": "af80e5b3-7f89-4bf8-e920-ea81fb639f70"
      },
      "execution_count": 8,
      "outputs": [
        {
          "output_type": "execute_result",
          "data": {
            "text/plain": [
              "A111A_binaria\n",
              "0    0.739927\n",
              "1    0.260073\n",
              "Name: proportion, dtype: float64"
            ],
            "text/html": [
              "<div>\n",
              "<style scoped>\n",
              "    .dataframe tbody tr th:only-of-type {\n",
              "        vertical-align: middle;\n",
              "    }\n",
              "\n",
              "    .dataframe tbody tr th {\n",
              "        vertical-align: top;\n",
              "    }\n",
              "\n",
              "    .dataframe thead th {\n",
              "        text-align: right;\n",
              "    }\n",
              "</style>\n",
              "<table border=\"1\" class=\"dataframe\">\n",
              "  <thead>\n",
              "    <tr style=\"text-align: right;\">\n",
              "      <th></th>\n",
              "      <th>proportion</th>\n",
              "    </tr>\n",
              "    <tr>\n",
              "      <th>A111A_binaria</th>\n",
              "      <th></th>\n",
              "    </tr>\n",
              "  </thead>\n",
              "  <tbody>\n",
              "    <tr>\n",
              "      <th>0</th>\n",
              "      <td>0.739927</td>\n",
              "    </tr>\n",
              "    <tr>\n",
              "      <th>1</th>\n",
              "      <td>0.260073</td>\n",
              "    </tr>\n",
              "  </tbody>\n",
              "</table>\n",
              "</div><br><label><b>dtype:</b> float64</label>"
            ]
          },
          "metadata": {},
          "execution_count": 8
        }
      ]
    },
    {
      "cell_type": "markdown",
      "source": [
        "Ahora ya hice una nueva columna con 1 y 0 que representan altos y bajos respectivamente. Si esta debajo de la mediana se clasifica como 0, y si esta arriba se clasifica como 1."
      ],
      "metadata": {
        "id": "W6H9lYv2kBDu"
      }
    },
    {
      "cell_type": "code",
      "source": [
        "from sklearn.model_selection import train_test_split\n",
        "\n",
        "# Seleccionar X (características) e y (variable binaria)\n",
        "X = df.drop(columns=[\"A111A_binaria\"])  # Todas las columnas excepto la salida\n",
        "y = df[\"A111A_binaria\"]  # Variable binaria\n",
        "\n",
        "# Dividir los datos en 80% entrenamiento y 20% prueba manteniendo la proporción de clases\n",
        "X_train, X_test, y_train, y_test = train_test_split(X, y, test_size=0.2, stratify=y, random_state=42)\n",
        "\n",
        "# Mostrar las proporciones de clases en cada conjunto\n",
        "print(\"Proporción en datos originales:\\n\", y.value_counts(normalize=True))\n",
        "print(\"Proporción en datos de entrenamiento:\\n\", y_train.value_counts(normalize=True))\n",
        "print(\"Proporción en datos de prueba:\\n\", y_test.value_counts(normalize=True))\n"
      ],
      "metadata": {
        "colab": {
          "base_uri": "https://localhost:8080/"
        },
        "id": "51oiylmXkewM",
        "outputId": "b2725a36-1211-442b-a25b-cd1de3364c5c"
      },
      "execution_count": 9,
      "outputs": [
        {
          "output_type": "stream",
          "name": "stdout",
          "text": [
            "Proporción en datos originales:\n",
            " A111A_binaria\n",
            "0    0.739927\n",
            "1    0.260073\n",
            "Name: proportion, dtype: float64\n",
            "Proporción en datos de entrenamiento:\n",
            " A111A_binaria\n",
            "0    0.739923\n",
            "1    0.260077\n",
            "Name: proportion, dtype: float64\n",
            "Proporción en datos de prueba:\n",
            " A111A_binaria\n",
            "0    0.739943\n",
            "1    0.260057\n",
            "Name: proportion, dtype: float64\n"
          ]
        }
      ]
    },
    {
      "cell_type": "markdown",
      "source": [
        "Aqui solamente separe los datos entre entrenamiento y prueba y verifique que se parezca la relacion entre 0s y 1s entre los datos originales, de entrenamiento y de prueba."
      ],
      "metadata": {
        "id": "kKArhmTklEmo"
      }
    },
    {
      "cell_type": "code",
      "source": [
        "from sklearn.impute import SimpleImputer\n",
        "\n",
        "# Eliminar columnas categóricas (solo dejar columnas numéricas)\n",
        "X_train = X_train.select_dtypes(include=['number'])\n",
        "X_test = X_test.select_dtypes(include=['number'])\n",
        "\n",
        "print(\"Columnas no numéricas eliminadas.\")\n",
        "\n",
        "# Llenar valores faltantes con la mediana\n",
        "imputer = SimpleImputer(strategy=\"median\")\n",
        "X_train_imputed = imputer.fit_transform(X_train)\n",
        "X_test_imputed = imputer.transform(X_test)\n",
        "\n",
        "print(\"Valores NaN reemplazados con la mediana.\")\n",
        "\n",
        "# Convertir de nuevo a DataFrame asegurando que tenga las mismas columnas\n",
        "X_train = pd.DataFrame(X_train_imputed, columns=X_train.columns[:X_train_imputed.shape[1]]).reset_index(drop=True)\n",
        "X_test = pd.DataFrame(X_test_imputed, columns=X_test.columns[:X_test_imputed.shape[1]]).reset_index(drop=True)\n",
        "\n",
        "print(\"Reset de índices hecho.\")\n"
      ],
      "metadata": {
        "colab": {
          "base_uri": "https://localhost:8080/"
        },
        "id": "zTKaoAe2lRz6",
        "outputId": "7833c4ee-dbe1-43f0-d266-2a2bbe91d4ca"
      },
      "execution_count": 10,
      "outputs": [
        {
          "output_type": "stream",
          "name": "stdout",
          "text": [
            "Columnas no numéricas eliminadas.\n",
            "Valores NaN reemplazados con la mediana.\n",
            "Reset de índices hecho.\n"
          ]
        },
        {
          "output_type": "stream",
          "name": "stderr",
          "text": [
            "/usr/local/lib/python3.11/dist-packages/sklearn/impute/_base.py:635: UserWarning: Skipping features without any observed values: ['A764A']. At least one non-missing value is needed for imputation with strategy='median'.\n",
            "  warnings.warn(\n",
            "/usr/local/lib/python3.11/dist-packages/sklearn/impute/_base.py:635: UserWarning: Skipping features without any observed values: ['A764A']. At least one non-missing value is needed for imputation with strategy='median'.\n",
            "  warnings.warn(\n"
          ]
        }
      ]
    },
    {
      "cell_type": "markdown",
      "source": [
        "Aqui limpie los datos para que se pueda hacer la regresión correctamente. Quite las columnas tipo string, reemplaze los valores NaN con la mediana y resettie los índices para que esten congruentes entre sí."
      ],
      "metadata": {
        "id": "1tM4Z-BVmltN"
      }
    },
    {
      "cell_type": "code",
      "source": [
        "from sklearn.feature_selection import SelectFromModel\n",
        "from sklearn.linear_model import Lasso\n",
        "from sklearn.preprocessing import StandardScaler\n",
        "\n",
        "# Normalizar los datos (Z-score)\n",
        "scaler = StandardScaler()\n",
        "X_train_scaled = scaler.fit_transform(X_train)\n",
        "X_test_scaled = scaler.transform(X_test)\n",
        "\n",
        "# Entrenar Lasso con datos normalizados\n",
        "modelo_lasso = Lasso(alpha=0.01, max_iter=5000)  # Aumentamos iteraciones\n",
        "modelo_lasso.fit(X_train_scaled, y_train)\n",
        "\n",
        "# Seleccionar características\n",
        "selector = SelectFromModel(modelo_lasso, prefit=True)\n",
        "variables_seleccionadas = X_train.columns[selector.get_support()]\n",
        "\n",
        "print(\"Variables seleccionadas después de normalizar:\", variables_seleccionadas.tolist())"
      ],
      "metadata": {
        "colab": {
          "base_uri": "https://localhost:8080/"
        },
        "id": "WDWvA9Roml_e",
        "outputId": "ae012d38-6803-4c94-d21a-b3f9fdc30f6f"
      },
      "execution_count": 11,
      "outputs": [
        {
          "output_type": "stream",
          "name": "stdout",
          "text": [
            "Variables seleccionadas después de normalizar: ['CODIGO', 'A221A', 'H020A', 'M010A', 'M030A', 'Q900A', 'A112A', 'A144A', 'A146A', 'A147A', 'A148A', 'A149A', 'A157A', 'A173A', 'A174A', 'A175A', 'A176A', 'A177A', 'A179A', 'A182A', 'A194A', 'A195A', 'A208A', 'A215A', 'A217A', 'A225A', 'A227A', 'A228A', 'A235A', 'A253A', 'A436A', 'A752A']\n"
          ]
        }
      ]
    },
    {
      "cell_type": "markdown",
      "source": [
        "Ahora seleccioné las variables más importantes usando el modelo Lasso porque como estoy trabajando con demasiados variables usé un método que elimina las variables irrelevantes y se queda solamente con las más importantes."
      ],
      "metadata": {
        "id": "OJODwiwBsEif"
      }
    },
    {
      "cell_type": "code",
      "source": [
        "# Seleccionar las 5 mejores variables con Lasso\n",
        "top_5_features = variables_seleccionadas[:5]  # Tomamos solo las primeras 5 variables\n",
        "\n",
        "# Filtrar X_train y X_test con estas 5 variables\n",
        "X_train_selected = X_train[top_5_features]\n",
        "X_test_selected = X_test[top_5_features]\n",
        "\n",
        "print(\"Usando solo estas 5 variables:\", top_5_features)\n"
      ],
      "metadata": {
        "colab": {
          "base_uri": "https://localhost:8080/"
        },
        "id": "FIlnO1KzxDq1",
        "outputId": "fc60f484-c09e-419a-b953-36f813f8b7ad"
      },
      "execution_count": 12,
      "outputs": [
        {
          "output_type": "stream",
          "name": "stdout",
          "text": [
            "Usando solo estas 5 variables: Index(['CODIGO', 'A221A', 'H020A', 'M010A', 'M030A'], dtype='object')\n"
          ]
        }
      ]
    },
    {
      "cell_type": "code",
      "source": [
        "from sklearn.linear_model import LogisticRegression\n",
        "\n",
        "# Definir el modelo de Regresión Logística con solver saga y más iteraciones\n",
        "modelo = LogisticRegression(solver=\"saga\", max_iter=5000)\n",
        "\n",
        "# Entrenar el modelo con las 5 variables seleccionadas\n",
        "modelo.fit(X_train_selected, y_train)\n",
        "\n",
        "# Obtener probabilidades para los datos de prueba\n",
        "y_probs = modelo.predict_proba(X_test_selected)[:, 1]  # Probabilidad de ser \"1\"\n",
        "\n",
        "print(\"Modelo de Regresión Logística entrenado y probabilidades calculadas.\")\n"
      ],
      "metadata": {
        "colab": {
          "base_uri": "https://localhost:8080/"
        },
        "id": "6a9V0M9qvOgD",
        "outputId": "7e604130-4a5f-4d54-b7d5-a050b4984441"
      },
      "execution_count": 13,
      "outputs": [
        {
          "output_type": "stream",
          "name": "stdout",
          "text": [
            "Modelo de Regresión Logística entrenado y probabilidades calculadas.\n"
          ]
        }
      ]
    },
    {
      "cell_type": "code",
      "source": [
        "from sklearn.metrics import confusion_matrix\n",
        "\n",
        "# Definir umbrales de decisión\n",
        "umbrales = [0.5, 0.6, 0.4]  # 0.5 (por defecto), 0.6 (más estricto), 0.4 (más flexible)\n",
        "\n",
        "for umbral in umbrales:\n",
        "    # Convertir probabilidades en predicciones (0 o 1) usando cada umbral\n",
        "    y_pred = (y_probs >= umbral).astype(int)\n",
        "\n",
        "    # Calcular la Matriz de Confusión\n",
        "    matriz = confusion_matrix(y_test, y_pred)\n",
        "\n",
        "    # Extraer valores de la matriz de confusión\n",
        "    tn, fp, fn, tp = matriz.ravel()\n",
        "\n",
        "    # Calcular métricas\n",
        "    exactitud = (tp + tn) / (tp + tn + fp + fn)  # Accuracy\n",
        "    sensibilidad = tp / (tp + fn)  # Tasa de verdaderos positivos (Recall)\n",
        "    especificidad = tn / (tn + fp)  # Tasa de verdaderos negativos\n",
        "\n",
        "    # Imprimir los resultados\n",
        "    print(f\"\\n🔹 Para umbral {umbral}:\")\n",
        "    print(\"📌 Matriz de Confusión:\\n\", matriz)\n",
        "    print(f\"✔ Exactitud: {exactitud:.2f}\")\n",
        "    print(f\"✔ Sensibilidad (Recall): {sensibilidad:.2f}\")\n",
        "    print(f\"✔ Especificidad: {especificidad:.2f}\")\n"
      ],
      "metadata": {
        "colab": {
          "base_uri": "https://localhost:8080/"
        },
        "id": "9CsQH_aR3011",
        "outputId": "d9298b99-3870-4770-a273-bdbe94dc19de"
      },
      "execution_count": 14,
      "outputs": [
        {
          "output_type": "stream",
          "name": "stdout",
          "text": [
            "\n",
            "🔹 Para umbral 0.5:\n",
            "📌 Matriz de Confusión:\n",
            " [[6557  727]\n",
            " [1114 1446]]\n",
            "✔ Exactitud: 0.81\n",
            "✔ Sensibilidad (Recall): 0.56\n",
            "✔ Especificidad: 0.90\n",
            "\n",
            "🔹 Para umbral 0.6:\n",
            "📌 Matriz de Confusión:\n",
            " [[7240   44]\n",
            " [1325 1235]]\n",
            "✔ Exactitud: 0.86\n",
            "✔ Sensibilidad (Recall): 0.48\n",
            "✔ Especificidad: 0.99\n",
            "\n",
            "🔹 Para umbral 0.4:\n",
            "📌 Matriz de Confusión:\n",
            " [[6339  945]\n",
            " [ 868 1692]]\n",
            "✔ Exactitud: 0.82\n",
            "✔ Sensibilidad (Recall): 0.66\n",
            "✔ Especificidad: 0.87\n"
          ]
        }
      ]
    },
    {
      "cell_type": "markdown",
      "source": [
        "La matriz de confusión nos permite evaluar el rendimiento del modelo al comparar las predicciones con las etiquetas reales. En nuestro caso, observamos que el modelo tiene una buena precisión general, con una exactitud adecuada y un buen equilibrio entre sensibilidad y especificidad según los diferentes umbrales evaluados. Sin embargo, dependiendo del umbral seleccionado, el modelo puede priorizar la reducción de falsos negativos o falsos positivos, afectando su capacidad para clasificar correctamente ciertos casos."
      ],
      "metadata": {
        "id": "xbMDFU2I7PPh"
      }
    },
    {
      "cell_type": "code",
      "source": [
        "import matplotlib.pyplot as plt\n",
        "from sklearn.metrics import roc_curve, roc_auc_score\n",
        "\n",
        "# Calcular la Curva ROC\n",
        "fpr, tpr, _ = roc_curve(y_test, y_probs)\n",
        "auc_value = roc_auc_score(y_test, y_probs)\n",
        "\n",
        "# Graficar la Curva ROC\n",
        "plt.figure(figsize=(8,6))\n",
        "plt.plot(fpr, tpr, label=f'AUC = {auc_value:.2f}', linewidth=2)\n",
        "plt.plot([0, 1], [0, 1], linestyle='--', color='gray')  # Línea diagonal de azar\n",
        "plt.xlabel('Tasa de Falsos Positivos (FPR)')\n",
        "plt.ylabel('Tasa de Verdaderos Positivos (TPR)')\n",
        "plt.title('Curva ROC - Regresión Logística')\n",
        "plt.legend()\n",
        "plt.show()\n",
        "\n",
        "# Imprimir el valor de AUC\n",
        "print(f\"Valor de AUC: {auc_value:.2f}\")\n"
      ],
      "metadata": {
        "colab": {
          "base_uri": "https://localhost:8080/",
          "height": 533
        },
        "id": "cnFzEzOx7PkY",
        "outputId": "3b1e4693-de7a-43d8-c2e3-8479d9d66a41"
      },
      "execution_count": 15,
      "outputs": [
        {
          "output_type": "display_data",
          "data": {
            "text/plain": [
              "<Figure size 800x600 with 1 Axes>"
            ],
            "image/png": "[encoded data removed]"
          },
          "metadata": {}
        },
        {
          "output_type": "stream",
          "name": "stdout",
          "text": [
            "Valor de AUC: 0.84\n"
          ]
        }
      ]
    },
    {
      "cell_type": "markdown",
      "source": [
        "Un AUC de 0.84 indica que el modelo tiene buena capacidad de predicir bastante bien si una observación pertenece a la clase 0 o 1."
      ],
      "metadata": {
        "id": "7ud1_azD8BwF"
      }
    },
    {
      "cell_type": "code",
      "source": [
        "import pandas as pd\n",
        "\n",
        "# Obtener coeficientes del modelo\n",
        "coeficientes = pd.DataFrame({\n",
        "    \"Variable\": X_train_selected.columns,\n",
        "    \"Coeficiente\": modelo.coef_[0]\n",
        "})\n",
        "\n",
        "# Ordenar por la magnitud del impacto\n",
        "coeficientes = coeficientes.sort_values(by=\"Coeficiente\", ascending=False)\n",
        "\n",
        "# Mostrar los coeficientes\n",
        "print(\"Coeficientes del modelo:\")\n",
        "print(coeficientes)\n"
      ],
      "metadata": {
        "colab": {
          "base_uri": "https://localhost:8080/"
        },
        "id": "3vnr4bBV8CAP",
        "outputId": "21f9e8c7-2c55-484a-afa4-a289dc9b3dbf"
      },
      "execution_count": 16,
      "outputs": [
        {
          "output_type": "stream",
          "name": "stdout",
          "text": [
            "📊 Coeficientes del modelo:\n",
            "  Variable  Coeficiente\n",
            "3    M010A     0.007517\n",
            "1    A221A     0.006349\n",
            "2    H020A     0.002512\n",
            "4    M030A     0.000756\n",
            "0   CODIGO    -0.015155\n"
          ]
        }
      ]
    },
    {
      "cell_type": "markdown",
      "source": [
        "* Las variables M010A, A221A y H020A aumentan la probabilidad de ser 1 (aunque con coeficientes pequeños).\n",
        "\n",
        "* CODIGO es la única variable que disminuye la probabilidad de ser 1 significativamente.\n",
        "\n",
        "* Los valores absolutos de los coeficientes son pequeños, lo que indica que los efectos individuales de cada variable no son muy fuertes, pero combinados pueden influir en la predicción.\n",
        "\n"
      ],
      "metadata": {
        "id": "eb-4mMpX9I4x"
      }
    }
  ]
}